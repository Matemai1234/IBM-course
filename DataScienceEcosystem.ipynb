{
 "cells": [
  {
   "cell_type": "markdown",
   "id": "2d4d39c3",
   "metadata": {},
   "source": [
    "Data Science Jupyter Assignment"
   ]
  },
  {
   "cell_type": "markdown",
   "id": "0b2e8410",
   "metadata": {},
   "source": [
    "This is my Jupyter course assignment"
   ]
  },
  {
   "cell_type": "markdown",
   "id": "ded38511",
   "metadata": {},
   "source": [
    "These are Data Science languages\n",
    "1.Python\n",
    "2.R Language\n",
    "3.SQL\n",
    "4.Java"
   ]
  },
  {
   "cell_type": "markdown",
   "id": "341c418a",
   "metadata": {},
   "source": [
    "These are data science libraries\n",
    "1.plotly\n",
    "2.Numpy\n",
    "3.Scipy\n",
    "4.dplyr\n",
    "5.matplotlib"
   ]
  },
  {
   "cell_type": "markdown",
   "id": "42758b6d",
   "metadata": {},
   "source": [
    "| Data Science Tools|\n",
    "|--------------------|\n",
    "| Jupyter Notebook   |\n",
    "| R Studio           |\n",
    "| Watson Studio      |\n",
    "|Hadoop              |"
   ]
  },
  {
   "cell_type": "markdown",
   "id": "d518d172",
   "metadata": {},
   "source": [
    "Arithmetic examples are \n",
    "1.addition\n",
    "2.multiplication\n",
    "3.division\n",
    "4.subtraction"
   ]
  },
  {
   "cell_type": "code",
   "execution_count": 6,
   "id": "cd5a6842",
   "metadata": {},
   "outputs": [
    {
     "name": "stdout",
     "output_type": "stream",
     "text": [
      "addition is 10\n",
      "multiply is 24\n"
     ]
    }
   ],
   "source": [
    "x = 4\n",
    "y = 6\n",
    "z = x+y\n",
    "print(\"addition is\",z)\n",
    "print(\"multiply is\", x*y)"
   ]
  },
  {
   "cell_type": "code",
   "execution_count": 7,
   "id": "1ca720b5",
   "metadata": {},
   "outputs": [
    {
     "name": "stdout",
     "output_type": "stream",
     "text": [
      "2 hours is equal to 120 minutes.\n"
     ]
    }
   ],
   "source": [
    "def hours_to_minutes(hours):\n",
    "    minutes = hours * 60\n",
    "    return minutes\n",
    "hours = 2\n",
    "print(f\"{hours} hours is equal to {hours_to_minutes(hours)} minutes.\")\n"
   ]
  },
  {
   "cell_type": "markdown",
   "id": "b0ade175",
   "metadata": {},
   "source": [
    "This is my project"
   ]
  },
  {
   "cell_type": "code",
   "execution_count": 9,
   "id": "212d5c3b",
   "metadata": {},
   "outputs": [
    {
     "data": {
      "text/plain": [
       "['apple', 'orange', 'banana']"
      ]
     },
     "execution_count": 9,
     "metadata": {},
     "output_type": "execute_result"
    }
   ],
   "source": [
    "fruits = [\"apple\",\"orange\",\"banana\"]\n",
    "fruits"
   ]
  },
  {
   "cell_type": "markdown",
   "id": "49dedbdb",
   "metadata": {},
   "source": [
    "Author Name : Tanatswa Chitaunhike"
   ]
  },
  {
   "cell_type": "code",
   "execution_count": null,
   "id": "129861d3",
   "metadata": {},
   "outputs": [],
   "source": []
  }
 ],
 "metadata": {
  "kernelspec": {
   "display_name": "Python 3 (ipykernel)",
   "language": "python",
   "name": "python3"
  },
  "language_info": {
   "codemirror_mode": {
    "name": "ipython",
    "version": 3
   },
   "file_extension": ".py",
   "mimetype": "text/x-python",
   "name": "python",
   "nbconvert_exporter": "python",
   "pygments_lexer": "ipython3",
   "version": "3.11.4"
  }
 },
 "nbformat": 4,
 "nbformat_minor": 5
}
